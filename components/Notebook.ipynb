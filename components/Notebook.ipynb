{
 "cells": [
  {
   "cell_type": "code",
   "execution_count": 2,
   "metadata": {},
   "outputs": [],
   "source": [
    "from generate_response import generate_fact\n",
    "from voice_over import generate_voice"
   ]
  },
  {
   "cell_type": "code",
   "execution_count": 3,
   "metadata": {},
   "outputs": [],
   "source": [
    "fact = generate_fact()"
   ]
  },
  {
   "cell_type": "code",
   "execution_count": 4,
   "metadata": {},
   "outputs": [
    {
     "data": {
      "text/plain": [
       "\"Remember when Ichigo fought Aizen? Did you know Aizen's plan went far deeper than just making an Oken to reach the Soul King's palace? It's mind-blowing, but Aizen actually intended to replace the Soul King with himself. We find out this ambition was deeply rooted in Aizen's desire to end the stagnant world order maintained by the Soul King. It's further revealed Aizen, throughout his manipulations, was searching for someone strong enough to challenge and ultimately replace the Soul King so the world can evolve.\\n\""
      ]
     },
     "execution_count": 4,
     "metadata": {},
     "output_type": "execute_result"
    }
   ],
   "source": [
    "fact"
   ]
  },
  {
   "cell_type": "code",
   "execution_count": 6,
   "metadata": {},
   "outputs": [],
   "source": [
    "fact = \"Remember when Ichigo fought Aizen? Did you know Aizen's plan went far deeper than just making an Oken to reach the Soul King's palace? It's mind-blowing, but Aizen actually intended to replace the Soul King with himself. We find out this ambition was deeply rooted in Aizen's desire to end the stagnant world order maintained by the Soul King. It's further revealed Aizen, throughout his manipulations, was searching for someone strong enough to challenge and ultimately replace the Soul King so the world can evolve\""
   ]
  },
  {
   "cell_type": "code",
   "execution_count": 7,
   "metadata": {},
   "outputs": [],
   "source": [
    "generate_voice(str(fact))"
   ]
  },
  {
   "cell_type": "code",
   "execution_count": null,
   "metadata": {},
   "outputs": [],
   "source": []
  }
 ],
 "metadata": {
  "kernelspec": {
   "display_name": "base",
   "language": "python",
   "name": "python3"
  },
  "language_info": {
   "codemirror_mode": {
    "name": "ipython",
    "version": 3
   },
   "file_extension": ".py",
   "mimetype": "text/x-python",
   "name": "python",
   "nbconvert_exporter": "python",
   "pygments_lexer": "ipython3",
   "version": "3.12.7"
  }
 },
 "nbformat": 4,
 "nbformat_minor": 2
}
