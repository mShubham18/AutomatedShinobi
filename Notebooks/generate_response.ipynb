{
 "cells": [
  {
   "cell_type": "code",
   "execution_count": 4,
   "metadata": {},
   "outputs": [],
   "source": [
    "from dotenv import load_dotenv\n",
    "import os\n",
    "load_dotenv()\n",
    "GEMINI_API_KEY = os.getenv(\"GEMINI_API_KEY\")\n"
   ]
  },
  {
   "cell_type": "markdown",
   "metadata": {},
   "source": [
    "import"
   ]
  },
  {
   "cell_type": "code",
   "execution_count": null,
   "metadata": {},
   "outputs": [],
   "source": [
    "from dotenv import load_dotenv\n",
    "import os\n",
    "load_dotenv()\n",
    "GEMINI_API_KEY = os.getenv(\"GEMINI_API_KEY\")\n",
    "\n",
    "genai.configure(api_key=GEMINI_API_KEY)\n",
    "model = genai.GenerativeModel(\"gemini-2.0-flash\")"
   ]
  },
  {
   "cell_type": "code",
   "execution_count": null,
   "metadata": {},
   "outputs": [],
   "source": [
    "from dotenv import load_dotenv\n",
    "import os\n",
    "load_dotenv()\n",
    "GEMINI_API_KEY = os.getenv(\"GEMINI_API_KEY\")\n",
    "\n",
    "genai.configure(api_key=GEMINI_API_KEY)\n",
    "model = genai.GenerativeModel(\"gemini-2.0-flash\")\n",
    "prompt = \"\"\"Generate me a fact of bleach , the fact should be rare, amazing, mind blowing. keep the language simple. They should be derived from light novels, mangas etc that were not present in anime or something. It should be deep from the story content don't worry about spoiling just go wwith it. explain the fact between \"80 to 110\" . use words like : did you know, remember when. keep the script catchy and must keep the reader hooked. start right away with words rather than saying salutatuions. also dont write extra words like okay here is your script. I just need the the fact merged with the script not them independent like fact1+script should be one point not them separately. I have to feed it to an AI voice tts engine so make it the way the tts engine could spell each word of the anime correctly. like for names like ywach make the word be written as it would be pronounced i.e yuhabaha. dont't worrry about spelling changes. so make it calm mysterious and to the point start reightway without sayig alright, listen up etc, just start with remember, did you know etc. If there are seperate paragagraohs, merge them into 1.\"\"\""
   ]
  },
  {
   "cell_type": "code",
   "execution_count": null,
   "metadata": {},
   "outputs": [
    {
     "name": "stdout",
     "output_type": "stream",
     "text": [
      "Remember when everyone thought Ichigo was just a substitute Soul Reaper? Did you know Yuhabaha, the father of all quincies, *specifically* orchestrated Ichigo's birth? It's not just about Ichigo inheriting powers. Yuhabaha planned it so Ichigo would be a being capable of *killing* him. He manipulated events so Masaki Kurosaki, a pure-blooded quincy, would be hollowfied, then saved by Isshin Shiba, a Soul Reaper captain. This union created Ichigo, a hybrid existence with shinigami, hollow, and quincy powers. Yuhabaha needed this hybrid because Ichigo was the only one who could potentially overcome his immense power. He saw Ichigo as the ultimate weapon, capable of ending his own immortal reign. It’s a secret Yuhabaha kept hidden until his final confrontation with Ichigo, making their battle far more personal and predestined than anyone realized.\n",
      "\n"
     ]
    }
   ],
   "source": [
    "from dotenv import load_dotenv\n",
    "import os\n",
    "load_dotenv()\n",
    "GEMINI_API_KEY = os.getenv(\"GEMINI_API_KEY\")\n",
    "\n",
    "genai.configure(api_key=GEMINI_API_KEY)\n",
    "model = genai.GenerativeModel(\"gemini-2.0-flash\")\n",
    "prompt = \"\"\"Generate me a fact of bleach , the fact should be rare, amazing, mind blowing. keep the language simple. They should be derived from light novels, mangas etc that were not present in anime or something. It should be deep from the story content don't worry about spoiling just go wwith it. explain the fact between \"80 to 110\" . use words like : did you know, remember when. keep the script catchy and must keep the reader hooked. start right away with words rather than saying salutatuions. also dont write extra words like okay here is your script. I just need the the fact merged with the script not them independent like fact1+script should be one point not them separately. I have to feed it to an AI voice tts engine so make it the way the tts engine could spell each word of the anime correctly. like for names like ywach make the word be written as it would be pronounced i.e yuhabaha. dont't worrry about spelling changes. so make it calm mysterious and to the point start reightway without sayig alright, listen up etc, just start with remember, did you know etc. If there are seperate paragagraohs, merge them into 1.\"\"\"\n",
    "response = model.generate_content(prompt)\n",
    "print(response.text)"
   ]
  },
  {
   "cell_type": "code",
   "execution_count": null,
   "metadata": {},
   "outputs": [],
   "source": []
  }
 ],
 "metadata": {
  "kernelspec": {
   "display_name": "base",
   "language": "python",
   "name": "python3"
  },
  "language_info": {
   "codemirror_mode": {
    "name": "ipython",
    "version": 3
   },
   "file_extension": ".py",
   "mimetype": "text/x-python",
   "name": "python",
   "nbconvert_exporter": "python",
   "pygments_lexer": "ipython3",
   "version": "3.12.7"
  }
 },
 "nbformat": 4,
 "nbformat_minor": 2
}
