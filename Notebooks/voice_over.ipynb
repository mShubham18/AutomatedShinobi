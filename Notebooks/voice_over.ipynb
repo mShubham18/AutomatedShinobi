{
 "cells": [
  {
   "cell_type": "code",
   "execution_count": 2,
   "metadata": {},
   "outputs": [
    {
     "data": {
      "text/plain": [
       "True"
      ]
     },
     "execution_count": 2,
     "metadata": {},
     "output_type": "execute_result"
    }
   ],
   "source": [
    "import requests\n",
    "import os\n",
    "from dotenv import load_dotenv\n",
    "load_dotenv()"
   ]
  },
  {
   "cell_type": "code",
   "execution_count": null,
   "metadata": {},
   "outputs": [],
   "source": []
  },
  {
   "cell_type": "code",
   "execution_count": null,
   "metadata": {},
   "outputs": [],
   "source": []
  },
  {
   "cell_type": "code",
   "execution_count": null,
   "metadata": {},
   "outputs": [],
   "source": []
  },
  {
   "cell_type": "code",
   "execution_count": 3,
   "metadata": {},
   "outputs": [],
   "source": [
    "# Your Speechify API Key\n",
    "API_KEY = os.getenv(\"SPEECHIFY_API_KEY\")\n",
    "\n",
    "# Speechify API Endpoint\n",
    "API_URL = os.getenv(\"API_URL\")"
   ]
  },
  {
   "cell_type": "code",
   "execution_count": 7,
   "metadata": {},
   "outputs": [
    {
     "name": "stdout",
     "output_type": "stream",
     "text": [
      "Audio content written to \"output.mp3\"\n"
     ]
    }
   ],
   "source": [
    "import requests\n",
    "import base64\n",
    "import html\n",
    "\n",
    "\n",
    "api_key = API_KEY\n",
    "\n",
    "api_url = \"https://api.sws.speechify.com/v1/audio/speech\"\n",
    "\n",
    "headers = {\n",
    "    \"Authorization\": f\"Bearer {api_key}\",\n",
    "    \"Content-Type\": \"application/json\"\n",
    "}\n",
    "\n",
    "response_str = \"Remember when Aizen was all about transcending? Did you know that in the light novels, it's revealed that his ultimate goal wasn't just power, but to create a key, a king's key capable of opening the gates to the Royal Realm without needing the ritual involving the souls of one hundred thousand people from Rukongai. In other words, Aizen wanted to dethrone the Soul King not for absolute power, but to change the very system. He wanted to find a different way to open the realm. This ambition, shrouded in his twisted methods, makes Aizen less of a power-hungry villain and more of a revolutionary, albeit a deeply flawed and dangerous one.\"\n",
    "#response_str = html.escape(response_str)  # Escape special characters\n",
    "\n",
    "ssml_text = f\"\"\"<speak>\n",
    "    <speechify:style emotion=\"terrified\">\n",
    "        {response_str}\n",
    "    </speechify:style>\n",
    "</speak>\"\"\"\n",
    "\n",
    "# Data payload\n",
    "data = {\n",
    "    \"input\": ssml_text,\n",
    "    \"voice_id\": \"donald\",  # Ensure \"henry\" is a valid voice ID\n",
    "}\n",
    "\n",
    "response = requests.post(api_url, headers=headers, json=data)\n",
    "\n",
    "# Check if the request was successful\n",
    "if response.status_code == 200:\n",
    "    response_json = response.json()\n",
    "    if \"audio_data\" in response_json:\n",
    "        # Decode base64 audio data\n",
    "        audio_bytes = base64.b64decode(response_json[\"audio_data\"])\n",
    "        # Save the audio content to a file\n",
    "        with open(\"output.mp3\", \"wb\") as audio_file:\n",
    "            audio_file.write(audio_bytes)\n",
    "        print('Audio content written to \"output.mp3\"')\n",
    "    else:\n",
    "        print(\"Error: 'audio_data' not found in the response.\")\n",
    "else:\n",
    "    print(f\"Error: {response.status_code}\")\n",
    "    print(response.text)\n"
   ]
  },
  {
   "cell_type": "code",
   "execution_count": null,
   "metadata": {},
   "outputs": [],
   "source": []
  }
 ],
 "metadata": {
  "kernelspec": {
   "display_name": "base",
   "language": "python",
   "name": "python3"
  },
  "language_info": {
   "codemirror_mode": {
    "name": "ipython",
    "version": 3
   },
   "file_extension": ".py",
   "mimetype": "text/x-python",
   "name": "python",
   "nbconvert_exporter": "python",
   "pygments_lexer": "ipython3",
   "version": "3.12.7"
  }
 },
 "nbformat": 4,
 "nbformat_minor": 2
}
