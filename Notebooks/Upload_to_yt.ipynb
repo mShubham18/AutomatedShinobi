{
 "cells": [
  {
   "cell_type": "code",
   "execution_count": 1,
   "metadata": {},
   "outputs": [
    {
     "data": {
      "text/plain": [
       "'if __name__ == \"__main__\":\\n    upload_video(\\n        \"path/to/video.mp4\",\\n        \"My Private Video\",\\n        \"This is a test upload via YouTube API\",\\n        [\"Python\", \"Automation\", \"YouTube API\"]\\n    )'"
      ]
     },
     "execution_count": 1,
     "metadata": {},
     "output_type": "execute_result"
    }
   ],
   "source": [
    "import os\n",
    "import pickle\n",
    "import google.auth.transport.requests\n",
    "from google_auth_oauthlib.flow import InstalledAppFlow\n",
    "from googleapiclient.discovery import build\n",
    "from googleapiclient.http import MediaFileUpload\n",
    "from dotenv import load_dotenv\n",
    "\n",
    "# Load environment variables\n",
    "load_dotenv()\n",
    "\n",
    "# Define YouTube API scopes\n",
    "SCOPES = [\"https://www.googleapis.com/auth/youtube.upload\"]\n",
    "TOKEN_FILE = \"token.pickle\"\n",
    "\n",
    "def authenticate_youtube():\n",
    "    \"\"\"Authenticate with YouTube Data API and return service instance.\"\"\"\n",
    "    creds = None\n",
    "\n",
    "    # Load token if available\n",
    "    if os.path.exists(TOKEN_FILE):\n",
    "        with open(TOKEN_FILE, \"rb\") as token:\n",
    "            creds = pickle.load(token)\n",
    "\n",
    "    # If no credentials available or invalid, login again\n",
    "    if not creds or not creds.valid:\n",
    "        if creds and creds.expired and creds.refresh_token:\n",
    "            creds.refresh(google.auth.transport.requests.Request())\n",
    "        else:\n",
    "            flow = InstalledAppFlow.from_client_config(\n",
    "                {\n",
    "                    \"installed\": {\n",
    "                        \"client_id\": os.getenv(\"YT_CLIENT_ID\"),\n",
    "                        \"client_secret\": os.getenv(\"YT_CLIENT_SECRET\"),\n",
    "                        \"auth_uri\": \"https://accounts.google.com/o/oauth2/auth\",\n",
    "                        \"token_uri\": \"https://oauth2.googleapis.com/token\",\n",
    "                        \"redirect_uris\": [\"http://localhost\"]\n",
    "                    }\n",
    "                },\n",
    "                SCOPES\n",
    "            )\n",
    "            creds = flow.run_local_server(port=8080)\n",
    "\n",
    "        # Save credentials for next time\n",
    "        with open(TOKEN_FILE, \"wb\") as token:\n",
    "            pickle.dump(creds, token)\n",
    "\n",
    "    return creds\n",
    "\n",
    "def upload_video(video_path, title, description, tags, category_id=\"22\", privacy_status=\"private\"):\n",
    "    \"\"\"Upload a video to YouTube.\"\"\"\n",
    "    creds = authenticate_youtube()\n",
    "    youtube = build(\"youtube\", \"v3\", credentials=creds)\n",
    "\n",
    "    request = youtube.videos().insert(\n",
    "        part=\"snippet,status\",\n",
    "        body={\n",
    "            \"snippet\": {\n",
    "                \"title\": title,\n",
    "                \"description\": description,\n",
    "                \"tags\": tags,\n",
    "                \"categoryId\": category_id\n",
    "            },\n",
    "            \"status\": {\n",
    "                \"privacyStatus\": privacy_status  # Set to \"private\"\n",
    "            }\n",
    "        },\n",
    "        media_body=MediaFileUpload(video_path, chunksize=-1, resumable=True)\n",
    "    )\n",
    "\n",
    "    response = request.execute()\n",
    "    print(\"✅ Video uploaded successfully! Video ID:\", response[\"id\"])\n",
    "\n",
    "# Example usage\n",
    "\"\"\"if __name__ == \"__main__\":\n",
    "    upload_video(\n",
    "        \"path/to/video.mp4\",\n",
    "        \"My Private Video\",\n",
    "        \"This is a test upload via YouTube API\",\n",
    "        [\"Python\", \"Automation\", \"YouTube API\"]\n",
    "    )\"\"\"\n"
   ]
  },
  {
   "cell_type": "code",
   "execution_count": 2,
   "metadata": {},
   "outputs": [
    {
     "name": "stdout",
     "output_type": "stream",
     "text": [
      "Please visit this URL to authorize this application: https://accounts.google.com/o/oauth2/auth?response_type=code&client_id=1054200997644-gb5s430gpdr88uo2vpgt767fj73tgsnj.apps.googleusercontent.com&redirect_uri=http%3A%2F%2Flocalhost%3A8080%2F&scope=https%3A%2F%2Fwww.googleapis.com%2Fauth%2Fyoutube.upload&state=binKK6bVWyDutlOmOGW2DdjhnEJHMK&access_type=offline\n",
      "✅ Video uploaded successfully! Video ID: _nRYZf-edV4\n"
     ]
    }
   ],
   "source": [
    "\n",
    "upload_video(\n",
    "    \"shorts/transcribed.mp4\",\n",
    "    \"API:TestRun1\",\n",
    "    \"This is a test upload via YouTube API\",\n",
    "    [\"Python\", \"Automation\", \"YouTube API\"]\n",
    ")\n"
   ]
  },
  {
   "cell_type": "code",
   "execution_count": 5,
   "metadata": {},
   "outputs": [
    {
     "name": "stdout",
     "output_type": "stream",
     "text": [
      "Please visit this URL to authorize this application: https://accounts.google.com/o/oauth2/auth?response_type=code&client_id=1054200997644-gb5s430gpdr88uo2vpgt767fj73tgsnj.apps.googleusercontent.com&redirect_uri=http%3A%2F%2Flocalhost%3A8080%2F&scope=https%3A%2F%2Fwww.googleapis.com%2Fauth%2Fyoutube.upload&state=q9JQDbnZEEcctGrOAEGX7sZ01SlSW5&prompt=consent&access_type=offline\n",
      "Access Token: ya29.a0AXeO80TGiUhMzfqRBl641UcPjTFwAArO9F8aezPMHrz767QbQ09b5Jun7K5sDU6utDOGf24e13ZqZ93F9_HlSRUS0pF8fZJJdTJz9WlZLeNBTNjhCNmJmM9B699Cf-5zzy2NLzw9odmKywWiMm7GQNynAadmEYqdbb_dOWyoaCgYKAe0SARISFQHGX2Mi9WhLRSZewzkK9rlYLswYCA0175\n",
      "Refresh Token: 1//0gsACyDpwSC9uCgYIARAAGBASNwF-L9Ir-A5DKOLEHnnmfBtEDK9fKpCAw4gjGtjgAtLbRKvt9b6pXj2uuO6QKVn_jYE6C_i4ciU\n"
     ]
    }
   ],
   "source": [
    "from google_auth_oauthlib.flow import InstalledAppFlow\n",
    "\n",
    "SCOPES = [\"https://www.googleapis.com/auth/youtube.upload\"]\n",
    "\n",
    "flow = InstalledAppFlow.from_client_secrets_file(\"creds.json\", SCOPES)\n",
    "credentials = flow.run_local_server(port=8080, prompt=\"consent\")\n",
    "\n",
    "print(\"Access Token:\", credentials.token)\n",
    "print(\"Refresh Token:\", credentials.refresh_token)\n"
   ]
  },
  {
   "cell_type": "code",
   "execution_count": 10,
   "metadata": {},
   "outputs": [
    {
     "name": "stdout",
     "output_type": "stream",
     "text": [
      "Please visit this URL to authorize this application: https://accounts.google.com/o/oauth2/auth?response_type=code&client_id=1054200997644-gb5s430gpdr88uo2vpgt767fj73tgsnj.apps.googleusercontent.com&redirect_uri=http%3A%2F%2Flocalhost%3A8080%2F&scope=https%3A%2F%2Fwww.googleapis.com%2Fauth%2Fyoutube.upload&state=quCdAA2Qt5hHw1UycGwuHMCkESNaWa&access_type=offline\n",
      "Access Token: ya29.a0AeXRPp79dUeYxix5djk_iwU_BQjakVtV-3mgLQYD2DPNQ-iEydSxnuyFhU61_B5MnkJNIEojv7b3hNjJVY4OVzhz8YxIsi_lISA5pJKBr879LjeeXQh1a9E7Xt5oCtgQIVbdNuK04pJor44lPsRh-AoMZ7KXV0FL0lEZjyEqaCgYKARUSARISFQHGX2MiSWbSKexYcYPrjy1eaJJMAw0175\n",
      "Refresh Token: 1//0g46djsplQBY8CgYIARAAGBASNwF-L9IrRnlmDW0TigjLuQR58a7aWNpAKVGB4T2y8mRLfmU415O76UFVxb_qBGXqNcoSyiuE33Y\n"
     ]
    }
   ],
   "source": [
    "from google_auth_oauthlib.flow import InstalledAppFlow\n",
    "\n",
    "SCOPES = [\"https://www.googleapis.com/auth/youtube.upload\"]\n",
    "\n",
    "flow = InstalledAppFlow.from_client_secrets_file(\"creds.json\", SCOPES)\n",
    "credentials = flow.run_local_server(port=8080)\n",
    "\n",
    "print(\"Access Token:\", credentials.token)\n",
    "print(\"Refresh Token:\", credentials.refresh_token)\n"
   ]
  },
  {
   "cell_type": "code",
   "execution_count": 15,
   "metadata": {},
   "outputs": [],
   "source": [
    "import os\n",
    "import requests\n",
    "import google.oauth2.credentials\n",
    "from googleapiclient.discovery import build\n",
    "from googleapiclient.http import MediaFileUpload\n",
    "from dotenv import load_dotenv\n",
    "\n",
    "# Load environment variables\n",
    "load_dotenv()\n",
    "\n",
    "SCOPES = [\"https://www.googleapis.com/auth/youtube.upload\"]\n",
    "\n",
    "# Get credentials from .env\n",
    "CLIENT_ID = os.getenv(\"YT_CLIENT_ID\")\n",
    "CLIENT_SECRET = os.getenv(\"YT_CLIENT_SECRET\")\n",
    "REFRESH_TOKEN = os.getenv(\"YT_REFRESH_TOKEN\")\n",
    "TOKEN_URI = \"https://oauth2.googleapis.com/token\"\n",
    "\n",
    "# Function to get a new access token using the refresh token\n",
    "def get_access_token():\n",
    "    data = {\n",
    "        \"client_id\": CLIENT_ID,\n",
    "        \"client_secret\": CLIENT_SECRET,\n",
    "        \"refresh_token\": REFRESH_TOKEN,\n",
    "        \"grant_type\": \"refresh_token\",\n",
    "    }\n",
    "    response = requests.post(TOKEN_URI, data=data)\n",
    "    token_info = response.json()\n",
    "    \n",
    "    if \"access_token\" in token_info:\n",
    "        return token_info[\"access_token\"]\n",
    "    else:\n",
    "        raise Exception(f\"Failed to get access token: {token_info}\")\n",
    "\n",
    "# Authenticate with YouTube API\n",
    "def authenticate_youtube():\n",
    "    access_token = get_access_token()\n",
    "    credentials = google.oauth2.credentials.Credentials(\n",
    "        access_token,\n",
    "        refresh_token=REFRESH_TOKEN,\n",
    "        token_uri=TOKEN_URI,\n",
    "        client_id=CLIENT_ID,\n",
    "        client_secret=CLIENT_SECRET,\n",
    "    )\n",
    "    return build(\"youtube\", \"v3\", credentials=credentials)\n",
    "\n",
    "# Upload video function\n",
    "def upload_video(video_path, title, description, tags, privacy_status=\"private\"):\n",
    "    youtube = authenticate_youtube()\n",
    "\n",
    "    request_body = {\n",
    "        \"snippet\": {\n",
    "            \"title\": title,\n",
    "            \"description\": description,\n",
    "            \"tags\": tags,\n",
    "            \"categoryId\": \"24\",  # 24 = Entertainment\n",
    "        },\n",
    "        \"status\": {\n",
    "            \"privacyStatus\": privacy_status,  # Set to 'private' by default\n",
    "        },\n",
    "    }\n",
    "\n",
    "    media = MediaFileUpload(video_path, chunksize=-1, resumable=True)\n",
    "\n",
    "    request = youtube.videos().insert(\n",
    "        part=\"snippet,status\",\n",
    "        body=request_body,\n",
    "        media_body=media\n",
    "    )\n",
    "\n",
    "    response = request.execute()\n",
    "    print(\"✅ Video uploaded successfully:\", response)\n",
    "\n",
    "# Run the upload\n",
    "\n"
   ]
  },
  {
   "cell_type": "code",
   "execution_count": 16,
   "metadata": {},
   "outputs": [
    {
     "name": "stdout",
     "output_type": "stream",
     "text": [
      "✅ Video uploaded successfully: {'kind': 'youtube#video', 'etag': '3WPjGMc7r7ZlrsEUlFQovQR_LY8', 'id': 'LrB9HwAnuQg', 'snippet': {'publishedAt': '2025-02-26T09:06:59Z', 'channelId': 'UCzIQzOdyclcRKvNWNYBGdOg', 'title': 'API: Test Run 2', 'description': 'Your Video Description', 'thumbnails': {'default': {'url': 'https://i9.ytimg.com/vi/LrB9HwAnuQg/default.jpg?sqp=CLyy-70G&rs=AOn4CLAAzTRTg8J9o5WfzBh55aqJnFKwOA', 'width': 120, 'height': 90}, 'medium': {'url': 'https://i9.ytimg.com/vi/LrB9HwAnuQg/mqdefault.jpg?sqp=CLyy-70G&rs=AOn4CLBZVBnbcMo5rjpsU4fKgs29sN06yw', 'width': 320, 'height': 180}, 'high': {'url': 'https://i9.ytimg.com/vi/LrB9HwAnuQg/hqdefault.jpg?sqp=CLyy-70G&rs=AOn4CLA19E0kjX2g5p1JvU8wBi7t_ntWOw', 'width': 480, 'height': 360}}, 'channelTitle': 'Shubham Mishra', 'tags': ['It is', 'Run', 'Test'], 'categoryId': '24', 'liveBroadcastContent': 'none', 'localized': {'title': 'API: Test Run 2', 'description': 'Your Video Description'}}, 'status': {'uploadStatus': 'uploaded', 'privacyStatus': 'private', 'license': 'youtube', 'embeddable': True, 'publicStatsViewable': True}}\n"
     ]
    }
   ],
   "source": [
    "upload_video(\n",
    "    video_path=\"shorts/transcribed.mp4\",\n",
    "    title=\"API: Test Run 2\",\n",
    "    description=\"Your Video Description\",\n",
    "    tags=[\"Test\", \"Run\", \"It is\"]\n",
    ")"
   ]
  },
  {
   "cell_type": "code",
   "execution_count": 17,
   "metadata": {},
   "outputs": [],
   "source": [
    "output=\"Aizen's REAL Goal!/Aizen's plans were deeper than power! He wanted to change the Soul Society's system, not just rule it. Learn about his true motive behind the King's Key in this Bleach lore short!/Aizen,Bleach,Soul King,King's Key,Aizen plan,Bleach theory,Bleach lore,anime,manga,shorts,hidden plot,transcendence\""
   ]
  },
  {
   "cell_type": "code",
   "execution_count": 19,
   "metadata": {},
   "outputs": [],
   "source": [
    "output_list=output.split(\"/\")\n",
    "vid_title = output_list[0]\n",
    "vid_description = output_list[1]\n",
    "vid_tags = output_list[2]"
   ]
  },
  {
   "cell_type": "code",
   "execution_count": 23,
   "metadata": {},
   "outputs": [
    {
     "name": "stdout",
     "output_type": "stream",
     "text": [
      "<class 'str'>\n"
     ]
    }
   ],
   "source": [
    "print(type(vid_description))"
   ]
  },
  {
   "cell_type": "code",
   "execution_count": 27,
   "metadata": {},
   "outputs": [],
   "source": [
    "video_tags=vid_tags.split(\",\")"
   ]
  },
  {
   "cell_type": "code",
   "execution_count": 29,
   "metadata": {},
   "outputs": [
    {
     "name": "stdout",
     "output_type": "stream",
     "text": [
      "<class 'list'>\n"
     ]
    }
   ],
   "source": [
    "print(type(video_tags))"
   ]
  },
  {
   "cell_type": "code",
   "execution_count": 1,
   "metadata": {},
   "outputs": [],
   "source": [
    "from dotenv import load_dotenv\n",
    "import os\n",
    "import google.generativeai as genai\n",
    "load_dotenv()\n",
    "GEMINI_API_KEY = os.getenv(\"GEMINI_API_KEY\")\n",
    "genai.configure(api_key=GEMINI_API_KEY)\n",
    "model = genai.GenerativeModel(\"gemini-2.0-flash\")\n",
    "\n"
   ]
  },
  {
   "cell_type": "code",
   "execution_count": 15,
   "metadata": {},
   "outputs": [],
   "source": [
    "fact =  \"Remember when Aizen was all about transcending? Did you know that in the light novels, it's revealed that his ultimate goal wasn't just power, but to create a key, a king's key capable of opening the gates to the Royal Realm without needing the ritual involving the souls of one hundred thousand people from Rukongai. In other words, Aizen wanted to dethrone the Soul King not for absolute power, but to change the very system. He wanted to find a different way to open the realm. \"\n",
    "\n",
    "prompt = f\"\"\"Here is a fact : {fact},this is a script of a youtube short., generate me some title starting with did you know, description with some #tags, and tags for the same. provide them comma seperated one by one. do not write anything else like salutation or something\n",
    "    NOTE:\n",
    "    keep the title short, and give it in this way\n",
    "    here :\n",
    "    TItle: did you know this about mayank ?\n",
    "    description: mayank is a person who like cats and this short explains why\n",
    "    tags: mayank,cats,loves,\n",
    "    so the output should be:\n",
    "    here / seperates them\n",
    "\n",
    "    did you know this about mayank ?/mayank is a person who like cats and this short explains why/mayank,cats,loves\n",
    "    do not include headings like title, tags, description, just straigh forward the output\n",
    "    \"\"\" \n",
    "response = model.generate_content(prompt)\n",
    "output=response.text\n"
   ]
  },
  {
   "cell_type": "code",
   "execution_count": 16,
   "metadata": {},
   "outputs": [
    {
     "data": {
      "text/plain": [
       "3"
      ]
     },
     "execution_count": 16,
     "metadata": {},
     "output_type": "execute_result"
    }
   ],
   "source": [
    "len((output.replace(\"\\n\",\"\")).split(\"/\"))"
   ]
  },
  {
   "cell_type": "code",
   "execution_count": null,
   "metadata": {},
   "outputs": [],
   "source": []
  }
 ],
 "metadata": {
  "kernelspec": {
   "display_name": "base",
   "language": "python",
   "name": "python3"
  },
  "language_info": {
   "codemirror_mode": {
    "name": "ipython",
    "version": 3
   },
   "file_extension": ".py",
   "mimetype": "text/x-python",
   "name": "python",
   "nbconvert_exporter": "python",
   "pygments_lexer": "ipython3",
   "version": "3.12.3"
  }
 },
 "nbformat": 4,
 "nbformat_minor": 2
}
